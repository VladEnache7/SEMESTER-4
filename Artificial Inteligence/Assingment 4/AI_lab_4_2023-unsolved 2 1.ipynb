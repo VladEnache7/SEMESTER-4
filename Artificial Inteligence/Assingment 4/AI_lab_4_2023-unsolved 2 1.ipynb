{
 "cells": [
  {
   "cell_type": "markdown",
   "id": "b246b6ac",
   "metadata": {},
   "source": [
    "## A.I. Assignment 4\n",
    "\n",
    "## Learning Goals\n",
    "\n",
    "By the end of this lab, you should be able to:\n",
    "* Get familiar with tensors in pytorch\n",
    "* Get familiar with the activation functions for ANN \n",
    "* Create a simple perceptron model with pytorch\n",
    "\n"
   ]
  },
  {
   "cell_type": "markdown",
   "id": "8247d8bb",
   "metadata": {},
   "source": [
    "## Common activation functions for ANN:\n",
    "\n",
    "##### Sigmoid:\n",
    "\n",
    "The sigmoid function is a popular choice for activation functions in neural networks. It has an $S-shaped$ curve:\n",
    "$$f(x) = \\frac{1}{1+e^{-x}}.$$\n",
    "\n",
    "It has a number of appealing qualities:\n",
    "\n",
    "1. *Nonlinearity*: Because the sigmoid function is nonlinear, it enables the neural network to simulate nonlinear interactions between inputs and outputs. A neural network would simply be a linear model without a nonlinear activation function like sigmoid, which would significantly restrict its capacity to describe complex relationships.\n",
    "\n",
    "1. *Smoothness*: As the sigmoid function is differentiable and smooth, its derivative exist at every point. This is significant because it makes it possible for neural network training techniques based on gradients (such as backpropagation) to perform well.\n",
    "\n",
    "1. *Boundedness*: The sigmoid function is bounded between 0 and 1, it means  its outputs can be interpreted as probabilities.  It is most useful in applications like binary classification, where the goal is to predict whether an input belongs to one of two classes.\n",
    "\n",
    "1. *Monotonicity*: The sigmoid function is monotonic, which means that its outputs are always increasing or always decreasing with respect to its inputs. This makes it easy to interpret the effect of changes in input variables on the output of the network.\n",
    "\n",
    "##### ReLU (Rectified Linear Unit):\n",
    "\n",
    "The ReLU function is defined as $$f(x) = max(0, x).$$\n",
    "\n",
    "It is a widely used activation function in deep learning due to its simplicity and effectiveness.\n",
    "\n",
    "##### Tanh (Hyperbolic Tangent):\n",
    "\n",
    "The $\\tanh$ function is similar to the sigmoid function but produces outputs in the interval $[-1, 1]$:  \n",
    "$$f(x) = \\frac{e^{x}-e^{-x}}{e^{x}+e^{-x}}.$$\n",
    "\n",
    "##### Softmax:\n",
    "\n",
    "The softmax function is commonly used in the output layer of a neural network for multi-class classification problems. It normalizes the output into a probability distribution over the classes.\n",
    "\n",
    "Given a vector $\\vec{z}$ of $n$ real numbers, the softmax function calculates a vector $\\vec{s}$ of $n$ real numbers with the components:\n",
    "$$s_j = \\frac{e^{z_j}}{\\sum_{k=1}^{n} {e^{z_k}}}.$$\n",
    "\n",
    "\n",
    "##### Leaky ReLU:\n",
    "\n",
    "The Leaky ReLU is a variation of the ReLU function that introduces a small non-zero gradient for negative inputs. It is defined as \n",
    "$$f(x) = max(0.01 \\cdot x, x).$$\n",
    "\n",
    "##### ELU (Exponential Linear Unit):\n",
    "\n",
    "The ELU function is another variation of the ReLU function that introduces a small negative saturation value for negative inputs. It is defined as \n",
    "\n",
    "$$ f(x) = \\biggl\\{ \\begin{matrix} x, & for & x > 0 \\\\\n",
    "                      \\alpha \\cdot (e^{x} - 1), & for & x \\leq 0 \\end{matrix}$$\n",
    "where $\\alpha$ is a hyperparameter.\n",
    "\n",
    "##### Swish:\n",
    "\n",
    "The Swish function is a recent activation function that is a smooth approximation of the ReLU function. It is defined as f(x) = x * sigmoid(x)."
   ]
  },
  {
   "cell_type": "code",
   "execution_count": 2,
   "id": "68931328",
   "metadata": {},
   "outputs": [
    {
     "data": {
      "text/plain": "False"
     },
     "execution_count": 2,
     "metadata": {},
     "output_type": "execute_result"
    }
   ],
   "source": [
    "import torch\n",
    "torch.cuda.is_available()"
   ]
  },
  {
   "cell_type": "markdown",
   "id": "93017ce5",
   "metadata": {},
   "source": [
    "create a tensor with requires_grad=True to tell PyTorch to track gradients for this tensor:"
   ]
  },
  {
   "cell_type": "code",
   "execution_count": 2,
   "id": "a14b6a39",
   "metadata": {},
   "outputs": [
    {
     "name": "stdout",
     "output_type": "stream",
     "text": [
      "tensor([2.], requires_grad=True)\n"
     ]
    }
   ],
   "source": [
    "x = torch.tensor([2.0], requires_grad=True)\n",
    "print(x)"
   ]
  },
  {
   "cell_type": "markdown",
   "id": "56340210",
   "metadata": {},
   "source": [
    "You can perform any operations on this tensor as usual:"
   ]
  },
  {
   "cell_type": "code",
   "execution_count": 3,
   "id": "99cb5a71",
   "metadata": {},
   "outputs": [
    {
     "name": "stdout",
     "output_type": "stream",
     "text": [
      "tensor([9.], grad_fn=<AddBackward0>)\n"
     ]
    }
   ],
   "source": [
    "y = x ** 2 + 2 * x + 1\n",
    "print(y)"
   ]
  },
  {
   "cell_type": "markdown",
   "id": "af8a18dc",
   "metadata": {},
   "source": [
    "To compute the gradients of y with respect to x, you need to call backward() on y:"
   ]
  },
  {
   "cell_type": "code",
   "execution_count": 4,
   "id": "8c244acf",
   "metadata": {},
   "outputs": [],
   "source": [
    "y.backward()"
   ]
  },
  {
   "cell_type": "code",
   "execution_count": 5,
   "id": "0e9b7e33",
   "metadata": {},
   "outputs": [
    {
     "data": {
      "text/plain": "tensor([6.])"
     },
     "execution_count": 5,
     "metadata": {},
     "output_type": "execute_result"
    }
   ],
   "source": [
    "x.grad"
   ]
  },
  {
   "cell_type": "code",
   "execution_count": 6,
   "id": "87ce525b",
   "metadata": {},
   "outputs": [
    {
     "name": "stdout",
     "output_type": "stream",
     "text": [
      "tensor([1., 1., 1.])\n"
     ]
    }
   ],
   "source": [
    "import torch\n",
    "\n",
    "# Create a tensor with requires_grad=True\n",
    "x = torch.tensor([1., 2., 3.], requires_grad=True)\n",
    "\n",
    "# Compute a function of x\n",
    "y = x.sum()\n",
    "\n",
    "# Compute gradients of y with respect to x\n",
    "y.backward()\n",
    "\n",
    "# Print gradients of x\n",
    "print(x.grad)\n"
   ]
  },
  {
   "cell_type": "markdown",
   "id": "30804b8c",
   "metadata": {},
   "source": [
    "Exercise 1.\n",
    "\n",
    "Compute the gradient for the sigmoid activation function in 2 points using pytorch and check it with the known explicit formula "
   ]
  },
  {
   "cell_type": "code",
   "execution_count": 9,
   "id": "2dc94902",
   "metadata": {},
   "outputs": [
    {
     "name": "stdout",
     "output_type": "stream",
     "text": [
      "tensor([0.1966, 0.1050])\n",
      "tensor([0.1966, 0.1050], grad_fn=<MulBackward0>)\n"
     ]
    }
   ],
   "source": [
    "# your code here\n",
    "x = torch.tensor([1., 2.], requires_grad=True)\n",
    "\n",
    "# define the function y\n",
    "y = torch.sigmoid(x)\n",
    "\n",
    "# compute the gradient of y with respect to x\n",
    "y.sum().backward()\n",
    "\n",
    "print(x.grad)\n",
    "\n",
    "# now using the formula\n",
    "y = 1 / (1 + torch.exp(-x))\n",
    "\n",
    "# derivating => d/dx 1 / 1 - e^(-x) = e^(-x) / (1 + e^(-x))^2 = y * (1 - y)\n",
    "gradient_formula = y * (1 - y)\n",
    "\n",
    "print(gradient_formula)"
   ]
  },
  {
   "cell_type": "markdown",
   "id": "7e77a45c",
   "metadata": {},
   "source": [
    "Exercise 2.\n",
    "\n",
    "Compute the gradient for the linear activation function in 2 points using pytorch and check it with the known explicit formula"
   ]
  },
  {
   "cell_type": "code",
   "execution_count": 11,
   "id": "7054039e",
   "metadata": {},
   "outputs": [
    {
     "name": "stdout",
     "output_type": "stream",
     "text": [
      "tensor([1., 1.])\n",
      "tensor([1., 1.])\n"
     ]
    }
   ],
   "source": [
    "# your code here\n",
    "x = torch.tensor([1., 2.], requires_grad=True)\n",
    "\n",
    "# define the function y\n",
    "y = x\n",
    "\n",
    "# compute the gradient of y with respect to x\n",
    "y.sum().backward()\n",
    "\n",
    "print(x.grad)\n",
    "\n",
    "# now using the formula\n",
    "gradient_formula = torch.ones_like(x)\n",
    "\n",
    "print(gradient_formula)\n"
   ]
  },
  {
   "cell_type": "markdown",
   "id": "dab117e3",
   "metadata": {},
   "source": [
    "Execise 3.\n",
    "\n",
    "Compute the gradient for the relu activation function in 2 points using pytorch and check it with the known explicit formula."
   ]
  },
  {
   "cell_type": "code",
   "execution_count": 14,
   "id": "1f69f4c5",
   "metadata": {},
   "outputs": [
    {
     "name": "stdout",
     "output_type": "stream",
     "text": [
      "tensor([0.0000, 0.5000, 1.0000])\n",
      "tensor([0.0000, 0.5000, 1.0000])\n"
     ]
    }
   ],
   "source": [
    "# your code here\n",
    "x = torch.tensor([-1., 0., 1.], requires_grad=True)\n",
    "\n",
    "# define the function y\n",
    "y = torch.max(torch.zeros_like(x), x)\n",
    "\n",
    "# compute the gradient of y with respect to x\n",
    "y.sum().backward()\n",
    "\n",
    "print(x.grad)\n",
    "\n",
    "# now using the formula. in x = 0, the gradient is not defined, so we will use the subgradient formula for x = 0\n",
    "gradient_formula = torch.where(x > 0, 1., 0.)\n",
    "gradient_formula[x == 0] = 0.5\n",
    "\n",
    "print(gradient_formula)\n",
    "\n"
   ]
  },
  {
   "cell_type": "markdown",
   "id": "ef985f68",
   "metadata": {},
   "source": [
    "Exercise 4. \n",
    "\n",
    "Write in python a function to plot the sigmoid activation function and its gradient using matplotlib"
   ]
  },
  {
   "cell_type": "code",
   "execution_count": 52,
   "id": "6c645aaf",
   "metadata": {},
   "outputs": [
    {
     "data": {
      "text/plain": "<Figure size 1000x500 with 1 Axes>",
      "image/png": "[encoded data removed]"
     },
     "metadata": {},
     "output_type": "display_data"
    }
   ],
   "source": [
    "# your code here\n",
    "import matplotlib.pyplot as plt\n",
    "\n",
    "def plot_sigmoid():\n",
    "    x = torch.linspace(-10, 10, 100)\n",
    "    y = torch.sigmoid(x)\n",
    "    y_gradient = y * (1 - y)\n",
    "\n",
    "    fix, ax = plt.subplots(1, 1, figsize=(10, 5))\n",
    "    ax.plot(x, y, label='Sigmoid')\n",
    "    ax.plot(x, y_gradient, 'purple', label='Sigmoid Gradient')\n",
    "    ax.legend()\n",
    "    plt.show()\n",
    "\n",
    "plot_sigmoid()\n",
    "\n"
   ]
  },
  {
   "cell_type": "markdown",
   "id": "51202a51",
   "metadata": {},
   "source": [
    "Exercise 5. \n",
    "\n",
    "Write in python a function to plot the ReLU activation function and its gradient using matplotlib."
   ]
  },
  {
   "cell_type": "code",
   "execution_count": 44,
   "id": "99e49c47",
   "metadata": {},
   "outputs": [
    {
     "data": {
      "text/plain": "<Figure size 1000x500 with 1 Axes>",
      "image/png": "[encoded data removed]"
     },
     "metadata": {},
     "output_type": "display_data"
    }
   ],
   "source": [
    "# your code here\n",
    "\n",
    "def plot_relu():\n",
    "    x = torch.linspace(-10, 10, 1000)\n",
    "    y = torch.relu(x)\n",
    "    y_gradient = torch.where(x > 0, 1., 0.)\n",
    "    # y_gradient[x == 0] = 0\n",
    "\n",
    "    fix, ax = plt.subplots(1, 1, figsize=(10, 5))\n",
    "    ax.plot(x, y, label='ReLU')\n",
    "    ax.plot(x, y_gradient, 'purple', label='ReLU Gradient')\n",
    "    ax.legend()\n",
    "    plt.show()\n",
    "\n",
    "plot_relu()"
   ]
  },
  {
   "cell_type": "markdown",
   "id": "c81684ff",
   "metadata": {},
   "source": [
    "Exercise 6. \n",
    "\n",
    "Write in python a function to plot the tanh activation function and its gradient using matplotlib."
   ]
  },
  {
   "cell_type": "code",
   "execution_count": 28,
   "id": "559d421d",
   "metadata": {},
   "outputs": [
    {
     "data": {
      "text/plain": "<Figure size 1000x500 with 1 Axes>",
      "image/png": "[encoded data removed]"
     },
     "metadata": {},
     "output_type": "display_data"
    }
   ],
   "source": [
    "# your code here\n",
    "def plot_tanh():\n",
    "    x = torch.linspace(-10, 10, 100)\n",
    "    y = torch.tanh(x)\n",
    "    y_gradient = 1 - y ** 2\n",
    "\n",
    "    fix, ax = plt.subplots(1, 1, figsize=(10, 5))\n",
    "    ax.plot(x, y, label='Tanh')\n",
    "    ax.plot(x, y_gradient, 'purple', label='Tanh Gradient')\n",
    "    ax.legend()\n",
    "    plt.show()\n",
    "\n",
    "plot_tanh()"
   ]
  },
  {
   "cell_type": "markdown",
   "id": "8740a0a8",
   "metadata": {},
   "source": [
    "Exercise 7. \n",
    "\n",
    "Write in python a function to plot the leaky ReLU activation function and its gradient using matplotlib."
   ]
  },
  {
   "cell_type": "code",
   "execution_count": 32,
   "id": "7b455646",
   "metadata": {},
   "outputs": [
    {
     "data": {
      "text/plain": "<Figure size 1000x500 with 1 Axes>",
      "image/png": "[encoded data removed]"
     },
     "metadata": {},
     "output_type": "display_data"
    }
   ],
   "source": [
    "# your code here\n",
    "\n",
    "def plot_leaky_relu():\n",
    "    x = torch.linspace(-10, 10, 100)\n",
    "    y = torch.max(0.01 * x, x)\n",
    "    y_gradient = torch.where(x > 0, 1., 0.01)\n",
    "\n",
    "    fix, ax = plt.subplots(1, 1, figsize=(10, 5))\n",
    "    ax.plot(x, y, label='Leaky ReLU')\n",
    "    ax.plot(x, y_gradient, 'purple', label='Leaky ReLU Gradient')\n",
    "    ax.legend()\n",
    "    plt.show()\n",
    "\n",
    "plot_leaky_relu()"
   ]
  },
  {
   "cell_type": "markdown",
   "id": "4e33119c",
   "metadata": {},
   "source": [
    "## Perceptron\n",
    "\n",
    "We define a class called *Perceptron* that inherits from *torch.nn.Module*. \n",
    "\n",
    "In the constructor, we define a single fully-connected linear layer with $input_dim$ inputs and $output_dim$ outputs, and a $sigmoid$ activation function. In the forward method, we apply the linear transformation to the input $x$, and then apply the sigmoid activation function to the output.\n",
    "\n"
   ]
  },
  {
   "cell_type": "code",
   "execution_count": 5,
   "id": "aa86d7c0",
   "metadata": {},
   "outputs": [],
   "source": [
    "import torch\n",
    "import torch.nn as nn\n",
    "\n",
    "\n",
    "\n",
    "class Perceptron(torch.nn.Module):\n",
    "    def __init__(self, input_dim, output_dim):\n",
    "        super(Perceptron, self).__init__()\n",
    "        self.linear = torch.nn.Linear(input_dim, output_dim)\n",
    "        self.activation = torch.nn.Sigmoid()\n",
    "        \n",
    "    def forward(self, x):\n",
    "        x = self.linear(x)\n",
    "        x = self.activation(x)\n",
    "        return x\n"
   ]
  },
  {
   "cell_type": "markdown",
   "id": "a178820e",
   "metadata": {},
   "source": [
    " We create an instance of this model and use it to make predictions like this:"
   ]
  },
  {
   "cell_type": "code",
   "execution_count": 53,
   "id": "78513e21",
   "metadata": {},
   "outputs": [
    {
     "name": "stdout",
     "output_type": "stream",
     "text": [
      "tensor([0.4059], grad_fn=<SigmoidBackward0>)\n"
     ]
    }
   ],
   "source": [
    "input_size = 2\n",
    "output_size = 1\n",
    "\n",
    "perceptron = Perceptron(input_size, output_size)\n",
    "x = torch.tensor([0.5, 0.2])\n",
    "y = perceptron(x)\n",
    "print(y)\n"
   ]
  },
  {
   "cell_type": "code",
   "execution_count": 54,
   "id": "54070b51",
   "metadata": {},
   "outputs": [
    {
     "name": "stdout",
     "output_type": "stream",
     "text": [
      "Epoch [100/1000], Loss: 0.6491\n",
      "Epoch [200/1000], Loss: 0.6466\n",
      "Epoch [300/1000], Loss: 0.6465\n",
      "Epoch [400/1000], Loss: 0.6464\n",
      "Epoch [500/1000], Loss: 0.6464\n",
      "Epoch [600/1000], Loss: 0.6464\n",
      "Epoch [700/1000], Loss: 0.6464\n",
      "Epoch [800/1000], Loss: 0.6464\n",
      "Epoch [900/1000], Loss: 0.6464\n",
      "Epoch [1000/1000], Loss: 0.6464\n"
     ]
    }
   ],
   "source": [
    "\n",
    "# Define the loss function and optimizer\n",
    "criterion = nn.BCELoss()  # Binary cross-entropy loss\n",
    "optimizer = torch.optim.SGD(perceptron.parameters(), lr=0.1)  # Stochastic gradient descent optimizer\n",
    "\n",
    "# Generate some random input data and labels\n",
    "input_data = torch.randn((10, input_size))\n",
    "labels = torch.randint(0, 2, (10, output_size)).float()\n",
    "\n",
    "# Train the model\n",
    "num_epochs = 1000\n",
    "for epoch in range(num_epochs):\n",
    "    # Forward pass\n",
    "    outputs = perceptron(input_data)\n",
    "    loss = criterion(outputs, labels)\n",
    "\n",
    "    # Backward pass and optimization\n",
    "    optimizer.zero_grad()\n",
    "    loss.backward()\n",
    "    optimizer.step()\n",
    "\n",
    "    # Print the loss every 100 epochs\n",
    "    if (epoch + 1) % 100 == 0:\n",
    "        print(f'Epoch [{epoch+1}/{num_epochs}], Loss: {loss.item():.4f}')"
   ]
  },
  {
   "cell_type": "markdown",
   "id": "75b840f4",
   "metadata": {},
   "source": [
    "Exercise 8: \n",
    "\n",
    "Implement a binary classification model using the Perceptron class in PyTorch for the logic OR. \n",
    "\n",
    "Your task is to create a Perceptron instance and train it using a proper  dataset and the binary cross-entropy loss with stochastic gradient descent optimizer. \n",
    "\n",
    "Here are the steps you can follow:\n",
    "\n",
    "Define a Perceptron class that inherits from torch.nn.Module and implements a binary classification model.\n",
    "\n",
    "Define a binary cross-entropy loss function using the torch.nn.BCEWithLogitsLoss module.\n",
    "\n",
    "Define a stochastic gradient descent optimizer using the torch.optim.SGD module.\n",
    "\n",
    "Train the Perceptron model on the training set using the binary cross-entropy loss and stochastic gradient descent optimizer.\n",
    "\n",
    "Evaluate the trained model compute the accuracy.\n"
   ]
  },
  {
   "cell_type": "markdown",
   "source": [],
   "metadata": {
    "collapsed": false
   }
  },
  {
   "cell_type": "code",
   "execution_count": 12,
   "id": "dc3c5d3e",
   "metadata": {},
   "outputs": [],
   "source": [
    "class Perceptron(torch.nn.Module):\n",
    "    def __init__(self, input_dim, output_dim):\n",
    "        super(Perceptron, self).__init__()\n",
    "        self.linear = torch.nn.Linear(input_dim, output_dim)\n",
    "        # linear activation function\n",
    "        # self.activation = torch.nn.ReLU()\n",
    "\n",
    "    def forward(self, x):\n",
    "        x = self.linear(x)\n",
    "        # x = self.activation(x)\n",
    "        return x\n"
   ]
  },
  {
   "cell_type": "code",
   "execution_count": 13,
   "outputs": [
    {
     "name": "stdout",
     "output_type": "stream",
     "text": [
      "Epoch [100/5000], Loss: 0.3821\n",
      "Epoch [200/5000], Loss: 0.2920\n",
      "Epoch [300/5000], Loss: 0.2342\n",
      "Epoch [400/5000], Loss: 0.1944\n",
      "Epoch [500/5000], Loss: 0.1656\n",
      "Epoch [600/5000], Loss: 0.1439\n",
      "Epoch [700/5000], Loss: 0.1269\n",
      "Epoch [800/5000], Loss: 0.1134\n",
      "Epoch [900/5000], Loss: 0.1023\n",
      "Epoch [1000/5000], Loss: 0.0931\n",
      "Epoch [1100/5000], Loss: 0.0853\n",
      "Epoch [1200/5000], Loss: 0.0787\n",
      "Epoch [1300/5000], Loss: 0.0730\n",
      "Epoch [1400/5000], Loss: 0.0680\n",
      "Epoch [1500/5000], Loss: 0.0637\n",
      "Epoch [1600/5000], Loss: 0.0598\n",
      "Epoch [1700/5000], Loss: 0.0564\n",
      "Epoch [1800/5000], Loss: 0.0533\n",
      "Epoch [1900/5000], Loss: 0.0505\n",
      "Epoch [2000/5000], Loss: 0.0480\n",
      "Epoch [2100/5000], Loss: 0.0458\n",
      "Epoch [2200/5000], Loss: 0.0437\n",
      "Epoch [2300/5000], Loss: 0.0418\n",
      "Epoch [2400/5000], Loss: 0.0400\n",
      "Epoch [2500/5000], Loss: 0.0384\n",
      "Epoch [2600/5000], Loss: 0.0369\n",
      "Epoch [2700/5000], Loss: 0.0356\n",
      "Epoch [2800/5000], Loss: 0.0343\n",
      "Epoch [2900/5000], Loss: 0.0331\n",
      "Epoch [3000/5000], Loss: 0.0320\n",
      "Epoch [3100/5000], Loss: 0.0309\n",
      "Epoch [3200/5000], Loss: 0.0299\n",
      "Epoch [3300/5000], Loss: 0.0290\n",
      "Epoch [3400/5000], Loss: 0.0282\n",
      "Epoch [3500/5000], Loss: 0.0273\n",
      "Epoch [3600/5000], Loss: 0.0266\n",
      "Epoch [3700/5000], Loss: 0.0258\n",
      "Epoch [3800/5000], Loss: 0.0251\n",
      "Epoch [3900/5000], Loss: 0.0245\n",
      "Epoch [4000/5000], Loss: 0.0239\n",
      "Epoch [4100/5000], Loss: 0.0233\n",
      "Epoch [4200/5000], Loss: 0.0227\n",
      "Epoch [4300/5000], Loss: 0.0222\n",
      "Epoch [4400/5000], Loss: 0.0216\n",
      "Epoch [4500/5000], Loss: 0.0212\n",
      "Epoch [4600/5000], Loss: 0.0207\n",
      "Epoch [4700/5000], Loss: 0.0202\n",
      "Epoch [4800/5000], Loss: 0.0198\n",
      "Epoch [4900/5000], Loss: 0.0194\n",
      "Epoch [5000/5000], Loss: 0.0190\n"
     ]
    }
   ],
   "source": [
    "input_size = 2\n",
    "output_size = 1\n",
    "losses = []\n",
    "\n",
    "# Define the perceptron, loss function and optimizer\n",
    "perceptron = Perceptron(input_size, output_size)\n",
    "criterion = nn.BCEWithLogitsLoss()\n",
    "optimizer = torch.optim.SGD(perceptron.parameters(), lr=0.1)\n",
    "\n",
    "# Define the dataset\n",
    "input_data = torch.tensor([[0., 0.], [0., 1.], [1., 0.], [1., 1.]]) # all possible inputs\n",
    "labels = torch.tensor([[0.], [1.], [1.], [1.]]) # OR logic\n",
    "\n",
    "# Train the model\n",
    "num_epochs = 5000\n",
    "for epoch in range(num_epochs):\n",
    "    # Forward pass\n",
    "    outputs = perceptron(input_data)\n",
    "\n",
    "    # Compute the loss\n",
    "    loss = criterion(outputs, labels)\n",
    "    losses.append(loss.item())\n",
    "\n",
    "    # Backward pass and optimization\n",
    "    optimizer.zero_grad() # clear the gradients\n",
    "    loss.backward() # compute the gradients\n",
    "    optimizer.step() # update the weights\n",
    "\n",
    "    # Print the loss every 100 epochs\n",
    "    if (epoch + 1) % 100 == 0:\n",
    "        print(f'Epoch [{epoch+1}/{num_epochs}], Loss: {loss.item():.4f}')"
   ],
   "metadata": {
    "collapsed": false
   }
  },
  {
   "cell_type": "code",
   "execution_count": 14,
   "outputs": [
    {
     "name": "stdout",
     "output_type": "stream",
     "text": [
      "Predictions: tensor([[-3.1372],\n",
      "        [ 4.0836],\n",
      "        [ 4.0818],\n",
      "        [11.3026]])\n",
      "Accuracy: 100.0%\n"
     ]
    }
   ],
   "source": [
    "# Evaluate the model\n",
    "with torch.no_grad():\n",
    "    outputs = perceptron(input_data)\n",
    "    print(\"Predictions:\", outputs)\n",
    "\n",
    "    # apply the sigmoid function to the outputs to get the predicted labels\n",
    "    predicted = (torch.sigmoid(outputs) > 0.5).float()\n",
    "    accuracy = (predicted == labels).sum().item() / labels.size(0)\n",
    "    print(f'Accuracy: {accuracy * 100}%')"
   ],
   "metadata": {
    "collapsed": false
   }
  },
  {
   "cell_type": "markdown",
   "source": [
    "# Visualize the loss"
   ],
   "metadata": {
    "collapsed": false
   }
  },
  {
   "cell_type": "code",
   "execution_count": 16,
   "outputs": [
    {
     "data": {
      "text/plain": "<Figure size 640x480 with 1 Axes>",
      "image/png": "[encoded data removed]"
     },
     "metadata": {},
     "output_type": "display_data"
    }
   ],
   "source": [
    "import matplotlib.pyplot as plt\n",
    "\n",
    "plt.plot(losses)\n",
    "plt.xlabel('Epoch')\n",
    "plt.ylabel('Loss')\n",
    "plt.title('Training Loss')\n",
    "plt.show()"
   ],
   "metadata": {
    "collapsed": false
   }
  },
  {
   "cell_type": "markdown",
   "source": [],
   "metadata": {
    "collapsed": false
   }
  }
 ],
 "metadata": {
  "kernelspec": {
   "display_name": "Python 3 (ipykernel)",
   "language": "python",
   "name": "python3"
  },
  "language_info": {
   "codemirror_mode": {
    "name": "ipython",
    "version": 3
   },
   "file_extension": ".py",
   "mimetype": "text/x-python",
   "name": "python",
   "nbconvert_exporter": "python",
   "pygments_lexer": "ipython3",
   "version": "3.9.13"
  }
 },
 "nbformat": 4,
 "nbformat_minor": 5
}
