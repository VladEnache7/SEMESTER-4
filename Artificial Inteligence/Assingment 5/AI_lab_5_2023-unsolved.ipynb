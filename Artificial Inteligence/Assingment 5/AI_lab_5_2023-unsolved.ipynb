{
 "cells": [
  {
   "cell_type": "markdown",
   "id": "b8210b19",
   "metadata": {},
   "source": [
    "## A.I. Assignment 5\n",
    "\n",
    "## Learning Goals\n",
    "\n",
    "By the end of this lab, you should be able to:\n",
    "* Get more familiar with tensors in pytorch \n",
    "* Create a simple multilayer perceptron model with pytorch\n",
    "* Visualise the parameters\n",
    "\n",
    "\n",
    "### Task\n",
    "\n",
    "Build a fully connected feed forward network that adds two bits. Determine the a propper achitecture for this network (what database you use for this problem? how many layers? how many neurons on each layer? what is the activation function? what is the loss function? etc)\n",
    "\n",
    "Create at least 3 such networks and compare their performance (how accurate they are?, how farst they are trained to get at 1 accuracy?)\n",
    "\n",
    "Display for the best one the weights for each layer.\n"
   ]
  },
  {
   "cell_type": "code",
   "execution_count": 1,
   "outputs": [
    {
     "name": "stdout",
     "output_type": "stream",
     "text": [
      "Hello World2s\n"
     ]
    }
   ],
   "source": [
    "print(\"Hello World2s\")"
   ],
   "metadata": {
    "collapsed": false
   }
  },
  {
   "cell_type": "code",
   "execution_count": 5,
   "id": "e3614e5f",
   "metadata": {},
   "outputs": [],
   "source": [
    "import torch\n",
    "import torch.nn as nn\n",
    "from collections import OrderedDict\n"
   ]
  },
  {
   "cell_type": "code",
   "execution_count": 85,
   "outputs": [
    {
     "data": {
      "text/plain": "<torch._C.Generator at 0x200df94b370>"
     },
     "execution_count": 85,
     "metadata": {},
     "output_type": "execute_result"
    }
   ],
   "source": [
    "seed = 42\n",
    "torch.manual_seed(seed)"
   ],
   "metadata": {
    "collapsed": false
   }
  },
  {
   "cell_type": "markdown",
   "source": [
    "# Define the data"
   ],
   "metadata": {
    "collapsed": false
   }
  },
  {
   "cell_type": "code",
   "execution_count": 63,
   "outputs": [
    {
     "name": "stdout",
     "output_type": "stream",
     "text": [
      "tensor([[0., 0.],\n",
      "        [0., 1.],\n",
      "        [1., 0.],\n",
      "        [1., 1.]])\n"
     ]
    }
   ],
   "source": [
    "# your code here\n",
    "data_in = torch.tensor([[0, 0], [0, 1], [1, 0], [1, 1]], dtype=torch.float32)\n",
    "print(data_in)"
   ],
   "metadata": {
    "collapsed": false
   }
  },
  {
   "cell_type": "code",
   "execution_count": 64,
   "outputs": [
    {
     "name": "stdout",
     "output_type": "stream",
     "text": [
      "tensor([[0., 0.],\n",
      "        [0., 1.],\n",
      "        [0., 1.],\n",
      "        [1., 1.]])\n"
     ]
    }
   ],
   "source": [
    "# your code here\n",
    "data_target = torch.tensor([[0, 0], [0, 1], [0, 1], [1, 1]], dtype=torch.float32)\n",
    "print(data_target)"
   ],
   "metadata": {
    "collapsed": false
   }
  },
  {
   "cell_type": "markdown",
   "source": [
    "# Define the models"
   ],
   "metadata": {
    "collapsed": false
   }
  },
  {
   "cell_type": "code",
   "execution_count": 113,
   "id": "5ee7e7d7",
   "metadata": {},
   "outputs": [
    {
     "ename": "NameError",
     "evalue": "name 'model' is not defined",
     "output_type": "error",
     "traceback": [
      "\u001B[1;31m---------------------------------------------------------------------------\u001B[0m",
      "\u001B[1;31mNameError\u001B[0m                                 Traceback (most recent call last)",
      "Cell \u001B[1;32mIn[113], line 7\u001B[0m\n\u001B[0;32m      1\u001B[0m model1 \u001B[38;5;241m=\u001B[39m nn\u001B[38;5;241m.\u001B[39mSequential(OrderedDict([\n\u001B[0;32m      2\u001B[0m    (\u001B[38;5;124m'\u001B[39m\u001B[38;5;124mhidden\u001B[39m\u001B[38;5;124m'\u001B[39m, nn\u001B[38;5;241m.\u001B[39mLinear(\u001B[38;5;241m2\u001B[39m, \u001B[38;5;241m3\u001B[39m)),\n\u001B[0;32m      3\u001B[0m    (\u001B[38;5;124m'\u001B[39m\u001B[38;5;124msigmoid1\u001B[39m\u001B[38;5;124m'\u001B[39m, nn\u001B[38;5;241m.\u001B[39mSigmoid()),\n\u001B[0;32m      4\u001B[0m    (\u001B[38;5;124m'\u001B[39m\u001B[38;5;124moutput\u001B[39m\u001B[38;5;124m'\u001B[39m, nn\u001B[38;5;241m.\u001B[39mLinear(\u001B[38;5;241m3\u001B[39m, \u001B[38;5;241m2\u001B[39m)),\n\u001B[0;32m      5\u001B[0m    (\u001B[38;5;124m'\u001B[39m\u001B[38;5;124msigmoid2\u001B[39m\u001B[38;5;124m'\u001B[39m, nn\u001B[38;5;241m.\u001B[39mSigmoid())\n\u001B[0;32m      6\u001B[0m ]))\n\u001B[1;32m----> 7\u001B[0m \u001B[38;5;28mprint\u001B[39m(\u001B[43mmodel\u001B[49m)\n\u001B[0;32m      8\u001B[0m model2 \u001B[38;5;241m=\u001B[39m nn\u001B[38;5;241m.\u001B[39mSequential(OrderedDict([\n\u001B[0;32m      9\u001B[0m    (\u001B[38;5;124m'\u001B[39m\u001B[38;5;124mhidden\u001B[39m\u001B[38;5;124m'\u001B[39m, nn\u001B[38;5;241m.\u001B[39mLinear(\u001B[38;5;241m2\u001B[39m, \u001B[38;5;241m3\u001B[39m)),\n\u001B[0;32m     10\u001B[0m    (\u001B[38;5;124m'\u001B[39m\u001B[38;5;124mrelu\u001B[39m\u001B[38;5;124m'\u001B[39m, nn\u001B[38;5;241m.\u001B[39mReLU()),\n\u001B[0;32m     11\u001B[0m    (\u001B[38;5;124m'\u001B[39m\u001B[38;5;124moutput\u001B[39m\u001B[38;5;124m'\u001B[39m, nn\u001B[38;5;241m.\u001B[39mLinear(\u001B[38;5;241m3\u001B[39m, \u001B[38;5;241m2\u001B[39m))\n\u001B[0;32m     12\u001B[0m ]))\n\u001B[0;32m     14\u001B[0m model3 \u001B[38;5;241m=\u001B[39m nn\u001B[38;5;241m.\u001B[39mSequential(OrderedDict([\n\u001B[0;32m     15\u001B[0m     (\u001B[38;5;124m'\u001B[39m\u001B[38;5;124mhidden1\u001B[39m\u001B[38;5;124m'\u001B[39m, nn\u001B[38;5;241m.\u001B[39mLinear(\u001B[38;5;241m2\u001B[39m, \u001B[38;5;241m3\u001B[39m)),\n\u001B[0;32m     16\u001B[0m     (\u001B[38;5;124m'\u001B[39m\u001B[38;5;124mrelu1\u001B[39m\u001B[38;5;124m'\u001B[39m, nn\u001B[38;5;241m.\u001B[39mReLU()),\n\u001B[1;32m   (...)\u001B[0m\n\u001B[0;32m     20\u001B[0m     (\u001B[38;5;124m'\u001B[39m\u001B[38;5;124msigmoid\u001B[39m\u001B[38;5;124m'\u001B[39m, nn\u001B[38;5;241m.\u001B[39mSigmoid())\n\u001B[0;32m     21\u001B[0m ]))\n",
      "\u001B[1;31mNameError\u001B[0m: name 'model' is not defined"
     ]
    }
   ],
   "source": [
    "model1 = nn.Sequential(OrderedDict([\n",
    "   ('hidden', nn.Linear(2, 3)),\n",
    "   ('sigmoid1', nn.Sigmoid()),\n",
    "   ('output', nn.Linear(3, 2)),\n",
    "   ('sigmoid2', nn.Sigmoid())\n",
    "]))\n",
    "print(model1)\n",
    "model2 = nn.Sequential(OrderedDict([\n",
    "   ('hidden', nn.Linear(2, 3)),\n",
    "   ('relu', nn.ReLU()),\n",
    "   ('output', nn.Linear(3, 2))\n",
    "]))\n",
    "\n",
    "model3 = nn.Sequential(OrderedDict([\n",
    "    ('hidden1', nn.Linear(2, 3)),\n",
    "    ('relu1', nn.ReLU()),\n",
    "    ('hidden2', nn.Linear(3, 3)),\n",
    "    ('relu2', nn.ReLU()),\n",
    "    ('output', nn.Linear(3, 2)),\n",
    "    ('sigmoid', nn.Sigmoid())\n",
    "]))"
   ]
  },
  {
   "cell_type": "code",
   "execution_count": 95,
   "id": "665ae958",
   "metadata": {},
   "outputs": [
    {
     "name": "stdout",
     "output_type": "stream",
     "text": [
      "Sequential(\n",
      "  (hidden1): Linear(in_features=2, out_features=8, bias=True)\n",
      "  (sigmoid1): ReLU()\n",
      "  (hidden2): Linear(in_features=8, out_features=8, bias=True)\n",
      "  (sigmoid2): ReLU()\n",
      "  (hidden3): Linear(in_features=8, out_features=8, bias=True)\n",
      "  (sigmoid3): Sigmoid()\n",
      "  (output): Linear(in_features=8, out_features=2, bias=True)\n",
      ")\n",
      "Sequential(\n",
      "  (hidden): Linear(in_features=2, out_features=3, bias=True)\n",
      "  (relu): ReLU()\n",
      "  (output): Linear(in_features=3, out_features=2, bias=True)\n",
      ")\n",
      "Sequential(\n",
      "  (hidden1): Linear(in_features=2, out_features=3, bias=True)\n",
      "  (relu1): ReLU()\n",
      "  (hidden2): Linear(in_features=3, out_features=3, bias=True)\n",
      "  (relu2): ReLU()\n",
      "  (output): Linear(in_features=3, out_features=2, bias=True)\n",
      "  (sigmoid): Sigmoid()\n",
      ")\n"
     ]
    }
   ],
   "source": [
    "print(model1)\n",
    "print(model2)\n",
    "print(model3)"
   ]
  },
  {
   "cell_type": "markdown",
   "source": [
    "# Define the loss function and the optimizer"
   ],
   "metadata": {
    "collapsed": false
   }
  },
  {
   "cell_type": "code",
   "execution_count": 110,
   "id": "69d920ed",
   "metadata": {},
   "outputs": [],
   "source": [
    "criterion1 = nn.BCE() # Binary Cross Entropy\n",
    "optimizer1 = torch.optim.SGD(model1.parameters(), lr=0.1)\n",
    "\n",
    "criterion2 = nn.MSELoss() # Binary Cross Entropy Loss that uses sigmoid internally\n",
    "optimizer2 = torch.optim.SGD(model1.parameters(), lr=0.1)\n",
    "\n",
    "criterion3 = nn.MSELoss()\n",
    "optimizer3 = torch.optim.Adam(model1.parameters(), lr=0.1)"
   ]
  },
  {
   "cell_type": "code",
   "execution_count": 111,
   "id": "cde91f6f",
   "metadata": {},
   "outputs": [
    {
     "name": "stdout",
     "output_type": "stream",
     "text": [
      "MODEL 1: Epoch [1000/10000], Loss: 0.1579, Accuracy: 0.7500\n",
      "MODEL 2: Epoch [1000/10000], Loss: 0.1793, Accuracy: 0.7500\n",
      "MODEL 3: Epoch [1000/10000], Loss: 0.2286, Accuracy: 0.7500\n",
      "<--------------> Model 1 reached 100% accuracy at epoch 1945 <-------------->\n",
      "MODEL 2: Epoch [2000/10000], Loss: 0.1793, Accuracy: 0.7500\n",
      "MODEL 3: Epoch [2000/10000], Loss: 0.2286, Accuracy: 0.7500\n",
      "MODEL 2: Epoch [3000/10000], Loss: 0.1793, Accuracy: 0.7500\n",
      "MODEL 3: Epoch [3000/10000], Loss: 0.2286, Accuracy: 0.7500\n",
      "MODEL 2: Epoch [4000/10000], Loss: 0.1793, Accuracy: 0.7500\n",
      "MODEL 3: Epoch [4000/10000], Loss: 0.2286, Accuracy: 0.7500\n",
      "MODEL 2: Epoch [5000/10000], Loss: 0.1793, Accuracy: 0.7500\n",
      "MODEL 3: Epoch [5000/10000], Loss: 0.2286, Accuracy: 0.7500\n",
      "MODEL 2: Epoch [6000/10000], Loss: 0.1793, Accuracy: 0.7500\n",
      "MODEL 3: Epoch [6000/10000], Loss: 0.2286, Accuracy: 0.7500\n",
      "MODEL 2: Epoch [7000/10000], Loss: 0.1793, Accuracy: 0.7500\n",
      "MODEL 3: Epoch [7000/10000], Loss: 0.2286, Accuracy: 0.7500\n",
      "MODEL 2: Epoch [8000/10000], Loss: 0.1793, Accuracy: 0.7500\n",
      "MODEL 3: Epoch [8000/10000], Loss: 0.2286, Accuracy: 0.7500\n",
      "MODEL 2: Epoch [9000/10000], Loss: 0.1793, Accuracy: 0.7500\n",
      "MODEL 3: Epoch [9000/10000], Loss: 0.2286, Accuracy: 0.7500\n",
      "MODEL 2: Epoch [10000/10000], Loss: 0.1793, Accuracy: 0.7500\n",
      "MODEL 3: Epoch [10000/10000], Loss: 0.2286, Accuracy: 0.7500\n"
     ]
    }
   ],
   "source": [
    "losses1 = []\n",
    "losses2 = []\n",
    "losses3 = []\n",
    "# Train the model\n",
    "num_epochs = 10000\n",
    "accuracy1 = 0\n",
    "accuracy2 = 0\n",
    "accuracy3 = 0\n",
    "for epoch in range(num_epochs):\n",
    "\n",
    "    if accuracy1 < 1:\n",
    "        # zero the gradients\n",
    "        optimizer1.zero_grad()\n",
    "\n",
    "        # Forward pass for model 1\n",
    "        outputs = model1(data_in)\n",
    "        loss1 = criterion1(outputs, data_target) # calculate loss\n",
    "\n",
    "        # save the loss for visualization\n",
    "        losses1.append(loss1.item())\n",
    "\n",
    "        loss1.backward()          # backward pass\n",
    "        optimizer1.step()         # update weights\n",
    "\n",
    "        predicted_classes = (outputs.round() == data_target)\n",
    "\n",
    "        accuracy1 = predicted_classes.sum().item() / (2 * len(data_target))\n",
    "\n",
    "        if accuracy1 == 1:\n",
    "            print(f\"<--------------> Model 1 reached 100% accuracy at epoch {epoch+1} <-------------->\")\n",
    "\n",
    "\n",
    "        if (epoch+1) % 1000 == 0:\n",
    "            print(f'MODEL 1: Epoch [{epoch+1}/{num_epochs}], Loss: {loss1.item():.4f}, Accuracy: {accuracy1:.4f}')\n",
    "\n",
    "    if accuracy2 < 1:\n",
    "        # zero the gradients\n",
    "        optimizer2.zero_grad()\n",
    "\n",
    "        # Forward pass for model 2\n",
    "        outputs = model2(data_in)\n",
    "        loss2 = criterion2(outputs, data_target) # calculate loss\n",
    "\n",
    "        # save the loss for visualization\n",
    "        losses2.append(loss2.item())\n",
    "\n",
    "        loss2.backward()          # backward pass\n",
    "        optimizer2.step()         # update weights\n",
    "\n",
    "        predicted_classes = (outputs.round() == data_target)\n",
    "\n",
    "        accuracy2 = predicted_classes.sum().item() / (2 * len(data_target))\n",
    "\n",
    "        if accuracy2 == 1:\n",
    "            print(f\"<-------------->Model 2 reached 100% accuracy at epoch {epoch+1}<-------------->\")\n",
    "\n",
    "\n",
    "        if (epoch+1) % 1000 == 0:\n",
    "            print(f'MODEL 2: Epoch [{epoch+1}/{num_epochs}], Loss: {loss2.item():.4f}, Accuracy: {accuracy2:.4f}')\n",
    "\n",
    "    if accuracy3 < 1:\n",
    "        # zero the gradients\n",
    "        optimizer3.zero_grad()\n",
    "\n",
    "        # Forward pass for model 3\n",
    "        outputs = model3(data_in)\n",
    "        loss3 = criterion3(outputs, data_target) # calculate loss\n",
    "\n",
    "        # save the loss for visualization\n",
    "        losses3.append(loss3.item())\n",
    "\n",
    "        loss3.backward()          # backward pass\n",
    "        optimizer3.step()         # update weights\n",
    "\n",
    "        predicted_classes = (outputs.round() == data_target)\n",
    "\n",
    "        accuracy3 = predicted_classes.sum().item() / (2 * len(data_target))\n",
    "\n",
    "        if accuracy3 == 1:\n",
    "            print(f\"<--------------> Model 3 reached 100% accuracy at epoch {epoch+1} <-------------->\")\n",
    "\n",
    "\n",
    "        if (epoch+1) % 1000 == 0:\n",
    "            print(f'MODEL 3: Epoch [{epoch+1}/{num_epochs}], Loss: {loss3.item():.4f}, Accuracy: {accuracy3:.4f}')\n",
    "\n"
   ]
  },
  {
   "cell_type": "markdown",
   "source": [
    "# Visualize the loss"
   ],
   "metadata": {
    "collapsed": false
   }
  },
  {
   "cell_type": "code",
   "execution_count": 112,
   "outputs": [
    {
     "data": {
      "text/plain": "<Figure size 640x480 with 1 Axes>",
      "image/png": "[encoded data removed]"
     },
     "metadata": {},
     "output_type": "display_data"
    }
   ],
   "source": [
    "\n",
    "import matplotlib.pyplot as plt\n",
    "\n",
    "plt.plot(losses1, label='Model 1')\n",
    "plt.plot(losses2, label='Model 2')\n",
    "plt.plot(losses3, label='Model 3')\n",
    "plt.legend()\n",
    "plt.show()\n",
    "#"
   ],
   "metadata": {
    "collapsed": false
   }
  },
  {
   "cell_type": "code",
   "execution_count": null,
   "outputs": [],
   "source": [],
   "metadata": {
    "collapsed": false
   }
  },
  {
   "cell_type": "markdown",
   "source": [
    "# Visualize the results"
   ],
   "metadata": {
    "collapsed": false
   }
  },
  {
   "cell_type": "code",
   "execution_count": 74,
   "id": "dff3ec1a",
   "metadata": {},
   "outputs": [
    {
     "name": "stdout",
     "output_type": "stream",
     "text": [
      "Model1 predictions: tensor([[0., 0.],\n",
      "        [0., 1.],\n",
      "        [0., 1.],\n",
      "        [1., 1.]], grad_fn=<RoundBackward0>)\n",
      "Model2 predictions: tensor([[-0., -0.],\n",
      "        [-0., -0.],\n",
      "        [-0., -0.],\n",
      "        [-0., -0.]], grad_fn=<RoundBackward0>)\n",
      "Model3 predictions: tensor([[1., 0.],\n",
      "        [1., 0.],\n",
      "        [1., 0.],\n",
      "        [1., 0.]], grad_fn=<RoundBackward0>)\n"
     ]
    }
   ],
   "source": [
    "print(f\"Model1 predictions: {model1(data_in).round()}\")\n",
    "print(f\"Model2 predictions: {model2(data_in).round()}\")\n",
    "print(f\"Model3 predictions: {model3(data_in).round()}\")"
   ]
  },
  {
   "cell_type": "code",
   "execution_count": 114,
   "id": "c1a7518b",
   "metadata": {},
   "outputs": [
    {
     "name": "stdout",
     "output_type": "stream",
     "text": [
      "<--------------Model1 weights: -------------->\n",
      "hidden.weight tensor([[-0.1308,  0.3324],\n",
      "        [ 0.6483,  0.2537],\n",
      "        [-0.2786, -0.6621]])\n",
      "hidden.weight tensor(0.6483)\n",
      "hidden.bias tensor([ 0.2561, -0.3503,  0.3598])\n",
      "hidden.bias tensor(0.3598)\n",
      "output.weight tensor([[ 0.3859,  0.2227,  0.5417],\n",
      "        [ 0.5484,  0.1222, -0.4207]])\n",
      "output.weight tensor(0.5484)\n",
      "output.bias tensor([ 0.5158, -0.2740])\n",
      "output.bias tensor(0.5158)\n",
      "<--------------Model2 weights: -------------->\n",
      "hidden.weight tensor([[ 0.2809, -0.6314],\n",
      "        [ 0.4071, -0.2198],\n",
      "        [-0.5379,  0.1034]])\n",
      "hidden.weight tensor(0.4071)\n",
      "hidden.bias tensor([ 0.3426,  0.6119, -0.4319])\n",
      "hidden.bias tensor(0.6119)\n",
      "output.weight tensor([[-0.2841,  0.1110,  0.1566],\n",
      "        [ 0.2220,  0.3169, -0.1309]])\n",
      "output.weight tensor(0.3169)\n",
      "output.bias tensor([0.3208, 0.4257])\n",
      "output.bias tensor(0.4257)\n",
      "<--------------Model3 weights: -------------->\n",
      "hidden1.weight tensor([[-0.1847,  0.5031],\n",
      "        [ 0.3455,  0.6237],\n",
      "        [-0.4018, -0.3492]])\n",
      "hidden1.weight tensor(0.6237)\n",
      "hidden1.bias tensor([-0.2045,  0.0359,  0.4244])\n",
      "hidden1.bias tensor(0.4244)\n",
      "hidden2.weight tensor([[-0.3296,  0.2891, -0.2069],\n",
      "        [ 0.3488, -0.0274, -0.5058],\n",
      "        [-0.3177, -0.4179,  0.2863]])\n",
      "hidden2.weight tensor(0.3488)\n",
      "hidden2.bias tensor([-0.3871, -0.0481,  0.1246])\n",
      "hidden2.bias tensor(0.1246)\n",
      "output.weight tensor([[-0.3166,  0.1665, -0.5637],\n",
      "        [-0.4131, -0.5232, -0.1746]])\n",
      "output.weight tensor(0.1665)\n",
      "output.bias tensor([-0.2103,  0.0827])\n",
      "output.bias tensor(0.0827)\n"
     ]
    }
   ],
   "source": [
    "# your code here\n",
    "# print model wights\n",
    "print(f\"<--------------Model1 weights: -------------->\")\n",
    "for name, param in model1.named_parameters():\n",
    "    if param.requires_grad:\n",
    "        print(name, param.data)\n",
    "        print(name, torch.max(param.data))\n",
    "\n",
    "print(f\"<--------------Model2 weights: -------------->\")\n",
    "for name, param in model2.named_parameters():\n",
    "    if param.requires_grad:\n",
    "        print(name, param.data)\n",
    "        print(name, torch.max(param.data))\n",
    "\n",
    "print(f\"<--------------Model3 weights: -------------->\")\n",
    "for name, param in model3.named_parameters():\n",
    "    if param.requires_grad:\n",
    "        print(name, param.data)\n",
    "        print(name, torch.max(param.data))"
   ]
  },
  {
   "cell_type": "code",
   "execution_count": null,
   "outputs": [],
   "source": [],
   "metadata": {
    "collapsed": false
   }
  }
 ],
 "metadata": {
  "kernelspec": {
   "display_name": "Python 3 (ipykernel)",
   "language": "python",
   "name": "python3"
  },
  "language_info": {
   "codemirror_mode": {
    "name": "ipython",
    "version": 3
   },
   "file_extension": ".py",
   "mimetype": "text/x-python",
   "name": "python",
   "nbconvert_exporter": "python",
   "pygments_lexer": "ipython3",
   "version": "3.9.13"
  }
 },
 "nbformat": 4,
 "nbformat_minor": 5
}
